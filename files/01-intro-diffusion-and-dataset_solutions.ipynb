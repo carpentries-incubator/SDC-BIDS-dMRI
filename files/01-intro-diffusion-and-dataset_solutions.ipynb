{
 "cells": [
  {
   "cell_type": "markdown",
   "metadata": {},
   "source": [
    "# Introduction to Diffusion\n",
    "\n",
    "## Diffusion Weighted Imaging (DWI)\n",
    "\n",
    "Diffusion imaging probes the random, microscopic motion of water protons by employing MRI sequences which are sensitive to the geometry and environmental organization surrounding the water protons. This is a popular technique for studying the white matter of the brain. The diffusion within biological structures, such as the brain, are often restricted due to barriers (eg. cell membranes), resulting in a preferred direction of diffusion (anisotropy). A typical diffusion MRI scan will acquire multiple volumes that are sensitive to a particular diffusion direction and result in diffusion-weighted images (DWI). Diffusion that exhibits directionality in the same direction result in an attenuated signal. With further processing (to be discussed later in the lesson), the acquired images can provide measurements which are related to the microscopic changes and estimate white matter trajectories. Images with no diffusion weighting are also acquired as part of the acquisition protocol.\n",
    "\n",
    "_**ADD DWI FIGURE SHOWING DIRECTIONAL ATTENUATION**_"
   ]
  },
  {
   "cell_type": "markdown",
   "metadata": {},
   "source": [
    "## b-values & b-vectors\n",
    "\n",
    "In addition to the acquired diffusion images, two files are collected as part of the diffusion dataset. These files correspond to the gradient amplitude (b-values) and directions (b-vectors) of the diffusion measurement and are named with the extensiosn `.bval` and `.bvec` respectively. The b-value is the diffusion-sensitizing factor, and reflects the timing & strength of the gradients used to acquire the diffusion-weighted images. The b-vector corresponds to the direction of the diffusion sensitivity. Together these two files define the diffusion MRI measurement as a set of gradient directions and corresponding amplitudes."
   ]
  },
  {
   "cell_type": "markdown",
   "metadata": {},
   "source": [
    "## Dataset\n",
    "\n",
    "For the rest of this tutorial, we will make use of a subset of publicly available dataset, ds000030, from [openneuro.org](https://openneuro.org/datasets/ds000030) The dataset is structured according to the Brain Imaging Data Structure ([BIDS](https://bids-specification.readthedocs.io/en/etable/)). \n",
    "\n",
    "Below is a tree diagram showing the folder structure of a single MR session within ds000030. This was obtained by using the bash command `tree`.  \n",
    "`!tree ../data/ds000030`\n",
    "\n",
    "```\n",
    "ds000030\n",
    "├── CHANGES\n",
    "├── code\n",
    "├── dataset_description.json\n",
    "├── README\n",
    "└── sub-10788/\n",
    "    ├── anat\n",
    "    │   ├── sub-10788_T1w.json\n",
    "    │   └── sub-10788_T1w.nii.gz\n",
    "    └── dwi\n",
    "        ├── sub-10788_dwi.bval\n",
    "        │── sub-10788_dwi.bvec\n",
    "        │── sub-10788_dwi.json\n",
    "        └── sub-10788_dwi.nii.gz\n",
    "```"
   ]
  },
  {
   "cell_type": "markdown",
   "metadata": {},
   "source": [
    "## Querying a BIDS Dataset\n",
    "\n",
    "[`pybids`](https://bids-standard.github.io/pybids/) is a Python API for querying, summarizing and manipulating the BIDS folder structure. We will make use of `pybids` to query the necessary files. \n",
    "\n",
    "Lets first pull the metadata from its associated JSON file using the `get_metadata()` function for the first run."
   ]
  },
  {
   "cell_type": "code",
   "execution_count": 1,
   "metadata": {},
   "outputs": [],
   "source": [
    "from bids.layout import BIDSLayout\n",
    "\n",
    "layout = BIDSLayout(\"../data/ds000030\", validate=False)"
   ]
  },
  {
   "cell_type": "code",
   "execution_count": 2,
   "metadata": {
    "jupyter": {
     "outputs_hidden": true
    }
   },
   "outputs": [
    {
     "data": {
      "text/plain": [
       "{'AccelerationFactorPE': 1,\n",
       " 'AcquisitionMatrix': '96/0/0/96',\n",
       " 'DeviceSerialNumber': '35343',\n",
       " 'EPIFactor': 128,\n",
       " 'EchoTime': 0.0926,\n",
       " 'EchoTrainLength': 1,\n",
       " 'EffectiveEchoSpacing': 0.000689983,\n",
       " 'FlipAngle': 90,\n",
       " 'ImageType': 'ORIGINAL/PRIMARY/M/ND/MOSAIC',\n",
       " 'ImagingFrequency': 123227595,\n",
       " 'InPlanePhaseEncodingDirection': 'COL',\n",
       " 'MRAcquisitionType': '2D',\n",
       " 'MagneticFieldStrength': 3,\n",
       " 'ManufacturerModelName': 'TrioTim',\n",
       " 'NumberOfAverages': 1,\n",
       " 'NumberOfPhaseEncodingSteps': 72,\n",
       " 'PatientPosition': 'HFS',\n",
       " 'PercentPhaseFieldOfView': 100,\n",
       " 'PercentSampling': 100,\n",
       " 'PhaseEncodingDirection': 'j-',\n",
       " 'PixelBandwidth': 2265,\n",
       " 'ProtocolName': 'DTI 64dir',\n",
       " 'ReceiveCoilName': 'HeadMatrix',\n",
       " 'RepetitionTime': 8.4,\n",
       " 'ScanOptions': 'PFP/FS',\n",
       " 'ScanningSequence': 'EP',\n",
       " 'SequenceName': '*ep_b1000#10',\n",
       " 'SequenceVariant': 'SK/SP',\n",
       " 'SliceTiming': [4.2175,\n",
       "  0,\n",
       "  4.3575,\n",
       "  0.14,\n",
       "  4.4975,\n",
       "  0.28,\n",
       "  4.6375,\n",
       "  0.4225,\n",
       "  4.7775,\n",
       "  0.5625,\n",
       "  4.92,\n",
       "  0.7025,\n",
       "  5.06,\n",
       "  0.8425,\n",
       "  5.2,\n",
       "  0.985,\n",
       "  5.34,\n",
       "  1.125,\n",
       "  5.4825,\n",
       "  1.265,\n",
       "  5.6225,\n",
       "  1.405,\n",
       "  5.7625,\n",
       "  1.545,\n",
       "  5.9025,\n",
       "  1.6875,\n",
       "  6.0425,\n",
       "  1.8275,\n",
       "  6.185,\n",
       "  1.9675,\n",
       "  6.325,\n",
       "  2.1075,\n",
       "  6.465,\n",
       "  2.2475,\n",
       "  6.605,\n",
       "  2.39,\n",
       "  6.7475,\n",
       "  2.53,\n",
       "  6.8875,\n",
       "  2.67,\n",
       "  7.0275,\n",
       "  2.81,\n",
       "  7.1675,\n",
       "  2.9525,\n",
       "  7.3075,\n",
       "  3.0925,\n",
       "  7.45,\n",
       "  3.2325,\n",
       "  7.59,\n",
       "  3.3725,\n",
       "  7.73,\n",
       "  3.5125,\n",
       "  7.87,\n",
       "  3.655,\n",
       "  8.0125,\n",
       "  3.795,\n",
       "  8.1525,\n",
       "  3.935,\n",
       "  8.2925,\n",
       "  4.075],\n",
       " 'SoftwareVersions': 'syngo MR B15',\n",
       " 'TotalReadoutTime': 0.088317824,\n",
       " 'TotalScanTimeSec': 556,\n",
       " 'TransmitCoilName': 'Body',\n",
       " 'VariableFlipAngleFlag': 'N'}"
      ]
     },
     "execution_count": 2,
     "metadata": {},
     "output_type": "execute_result"
    }
   ],
   "source": [
    "dwi = layout.get(subject='10788', suffix='dwi', extension='nii.gz', return_type='file')[0]\n",
    "layout.get_metadata(dwi)"
   ]
  },
  {
   "cell_type": "markdown",
   "metadata": {},
   "source": [
    "## [`dipy`](http://dipy.org)\n",
    "\n",
    "For this lesson, we will use the `Dipy` (Diffusion Imaging in Python) package for processing and analysing diffusion MRI.\n",
    "\n",
    "### Why `dipy`? \n",
    "\n",
    "- Fully free and open source\n",
    "- Implemented in Python. Easy to understand, and easy to use.\n",
    "- Implementations of many state-of-the art algorithms\n",
    "- High performance. Many algorithms implemented in [`cython`](http://cython.org/)\n",
    "\n",
    "### Installing `dipy`\n",
    "\n",
    "The easiest way to install `Dipy` is to use `pip`! Additionally, `Dipy` makes use of the FURY library for visualization. We will also install this using `pip`!\n",
    "\n",
    "We can install it by entering the following in a terminal `pip install dipy`. We will do so using Jupyter Magic in the following cell!"
   ]
  },
  {
   "cell_type": "code",
   "execution_count": 3,
   "metadata": {},
   "outputs": [
    {
     "name": "stdout",
     "output_type": "stream",
     "text": [
      "Collecting dipy\n",
      "\u001b[?25l  Downloading https://files.pythonhosted.org/packages/b6/1b/18cd443867583b5e692d391142345729b14910a95cc46864ab14bfed334c/dipy-1.0.0-cp36-cp36m-macosx_10_6_intel.macosx_10_9_intel.macosx_10_9_x86_64.macosx_10_10_intel.macosx_10_10_x86_64.whl (11.9MB)\n",
      "\u001b[K    100% |████████████████████████████████| 11.9MB 1.8MB/s eta 0:00:01\n",
      "\u001b[?25hCollecting h5py>=2.4.0 (from dipy)\n",
      "\u001b[?25l  Downloading https://files.pythonhosted.org/packages/ec/7f/a833846f5628d00f82ad87010f98294257535f1052e4a466888deba29f94/h5py-2.10.0-cp36-cp36m-macosx_10_6_intel.whl (3.0MB)\n",
      "\u001b[K    100% |████████████████████████████████| 3.0MB 6.8MB/s eta 0:00:01\n",
      "\u001b[?25hCollecting nibabel>=2.4.0 (from dipy)\n",
      "  Using cached https://files.pythonhosted.org/packages/6e/af/3be194425fb56a6f2152849051e038b6fc502e7cb7b65649ceb74d3e8166/nibabel-2.5.0-py3-none-any.whl\n",
      "Requirement already satisfied: scipy>=1.0 in /Users/oliviastanley/miniconda3/envs/conpcourse/lib/python3.6/site-packages (from dipy) (1.2.1)\n",
      "Requirement already satisfied: numpy>=1.7 in /Users/oliviastanley/miniconda3/envs/conpcourse/lib/python3.6/site-packages (from h5py>=2.4.0->dipy) (1.15.4)\n",
      "Requirement already satisfied: six in /Users/oliviastanley/miniconda3/envs/conpcourse/lib/python3.6/site-packages (from h5py>=2.4.0->dipy) (1.11.0)\n",
      "Installing collected packages: h5py, nibabel, dipy\n",
      "  Found existing installation: nibabel 2.3.3\n",
      "    Uninstalling nibabel-2.3.3:\n",
      "      Successfully uninstalled nibabel-2.3.3\n",
      "Successfully installed dipy-1.0.0 h5py-2.10.0 nibabel-2.5.0\n",
      "Collecting fury\n",
      "\u001b[?25l  Downloading https://files.pythonhosted.org/packages/65/28/14fe94c26e947f650222f076f57b607148cbf0bb2c303324ce13a8b87bdc/fury-0.3.0-py3-none-any.whl (147kB)\n",
      "\u001b[K    100% |████████████████████████████████| 153kB 4.7MB/s ta 0:00:01\n",
      "\u001b[?25hRequirement already satisfied: numpy>=1.7.1 in /Users/oliviastanley/miniconda3/envs/conpcourse/lib/python3.6/site-packages (from fury) (1.15.4)\n",
      "Collecting vtk>=8.1.0 (from fury)\n",
      "\u001b[?25l  Downloading https://files.pythonhosted.org/packages/8d/3b/a92a64a5d1203aae2af17dccc686ff4eb3bb7114db79eaab1593c03fb678/vtk-8.1.2-cp36-cp36m-macosx_10_6_x86_64.whl (54.9MB)\n",
      "\u001b[K    100% |████████████████████████████████| 54.9MB 494kB/s eta 0:00:01    44% |██████████████▏                 | 24.3MB 5.2MB/s eta 0:00:06\n",
      "\u001b[?25hRequirement already satisfied: scipy>=0.9 in /Users/oliviastanley/miniconda3/envs/conpcourse/lib/python3.6/site-packages (from fury) (1.2.1)\n",
      "Installing collected packages: vtk, fury\n",
      "Successfully installed fury-0.3.0 vtk-8.1.2\n"
     ]
    }
   ],
   "source": [
    "! pip install dipy\n",
    "! pip install fury"
   ]
  },
  {
   "cell_type": "markdown",
   "metadata": {},
   "source": [
    "### Defining a measurement: `GradientTable`\n",
    "\n",
    "`Dipy` has a built-in function that allows us to read in `bval` and `bvec` files named `read_bvals_bvecs` under the `dipy.io.gradients` module. Let's first grab the path to our gradient directions and amplitude files and load them into memory."
   ]
  },
  {
   "cell_type": "code",
   "execution_count": 7,
   "metadata": {
    "jupyter": {
     "outputs_hidden": true
    }
   },
   "outputs": [],
   "source": [
    "bvec = layout.get(subject='10788', suffix='dwi', extension='bvec', return_type='file')[0]\n",
    "bval = layout.get(subject='10788', suffix='dwi', extension='bval', return_type='file')[0]"
   ]
  },
  {
   "cell_type": "code",
   "execution_count": 8,
   "metadata": {},
   "outputs": [],
   "source": [
    "from dipy.io.gradients import read_bvals_bvecs\n",
    "from dipy.core.gradients import gradient_table\n",
    "\n",
    "bvals, bvecs = read_bvals_bvecs(bval, bvec)"
   ]
  },
  {
   "cell_type": "markdown",
   "metadata": {
    "jupyter": {
     "outputs_hidden": true
    }
   },
   "source": [
    "There is a also simple `GradientTable` object implemented in the `dipy.core.gradients` module. The input to the `GradientTable` should be our the values for our gradient directions and amplitudes we just read."
   ]
  },
  {
   "cell_type": "code",
   "execution_count": 9,
   "metadata": {},
   "outputs": [],
   "source": [
    "gtab = gradient_table(bvals, bvecs)"
   ]
  },
  {
   "cell_type": "markdown",
   "metadata": {},
   "source": [
    "We will need this gradient table later on to process our data and generate diffusion tensor images (DTI)! \n",
    "\n",
    "There is also a built in function for gradient tables, `b0s_mask` that can be used to separate difussion weighted measurements from non-diffusion weighted measurements (b=0s/mm^2). Try to extract the vector corresponding to diffusion weighted measurements in the following cell!"
   ]
  },
  {
   "cell_type": "code",
   "execution_count": 14,
   "metadata": {},
   "outputs": [
    {
     "data": {
      "text/plain": [
       "array([[-9.99984e-01,  4.03613e-03,  4.03613e-03],\n",
       "       [-9.92980e-04, -9.99987e-01,  4.98886e-03],\n",
       "       [-2.48897e-02,  6.53243e-01, -7.56739e-01],\n",
       "       [-5.89518e-01,  7.69236e-01,  2.46462e-01],\n",
       "       [ 2.35626e-01,  5.28739e-01,  8.15423e-01],\n",
       "       [ 8.93067e-01,  2.63666e-01,  3.64570e-01],\n",
       "       [ 7.97398e-01,  1.33552e-01, -5.88489e-01],\n",
       "       [ 2.32919e-01,  9.31812e-01, -2.78344e-01],\n",
       "       [ 9.36380e-01,  1.44036e-01, -3.20072e-01],\n",
       "       [-5.04032e-01,  8.46814e-01, -1.69873e-01],\n",
       "       [-3.44841e-01,  8.50410e-01, -3.97351e-01],\n",
       "       [-4.55850e-01,  6.35469e-01, -6.23202e-01],\n",
       "       [ 4.87386e-01,  3.93024e-01,  7.79735e-01],\n",
       "       [-6.16792e-01,  6.76545e-01, -4.02310e-01],\n",
       "       [ 5.77851e-01,  1.09487e-01, -8.08765e-01],\n",
       "       [ 8.25555e-01,  5.24662e-01,  2.07818e-01],\n",
       "       [ 8.94898e-01, -4.48150e-02,  4.44016e-01],\n",
       "       [-2.89332e-01,  5.45724e-01, -7.86430e-01],\n",
       "       [-1.15014e-01,  9.64050e-01, -2.39541e-01],\n",
       "       [ 8.00058e-01, -4.08056e-01, -4.39770e-01],\n",
       "       [ 5.11970e-01,  8.42290e-01, -1.68625e-01],\n",
       "       [ 7.89764e-01, -1.57178e-01, -5.92932e-01],\n",
       "       [ 9.49115e-01, -2.37601e-01, -2.06705e-01],\n",
       "       [ 2.32032e-01,  7.86655e-01, -5.72132e-01],\n",
       "       [ 1.96515e-02,  1.91844e-01, -9.81229e-01],\n",
       "       [-2.15961e-01,  9.57087e-01,  1.93247e-01],\n",
       "       [ 7.72435e-01, -6.07408e-01, -1.85471e-01],\n",
       "       [-1.59879e-01,  3.59797e-01, -9.19231e-01],\n",
       "       [-1.46103e-01,  7.34950e-01,  6.62195e-01],\n",
       "       [ 8.87180e-01,  4.21444e-01, -1.87872e-01],\n",
       "       [-5.62338e-01,  2.36544e-01,  7.92353e-01],\n",
       "       [-3.80669e-01,  1.46788e-01, -9.12987e-01],\n",
       "       [ 3.05803e-01,  2.02751e-01, -9.30256e-01],\n",
       "       [ 3.32094e-01,  1.33876e-01,  9.33697e-01],\n",
       "       [ 9.62206e-01,  2.69443e-01,  3.95029e-02],\n",
       "       [ 9.59295e-01, -2.09888e-01,  1.88943e-01],\n",
       "       [-4.50964e-01,  8.90337e-01,  6.27015e-02],\n",
       "       [ 7.71192e-01, -6.31175e-01,  8.29533e-02],\n",
       "       [-7.09223e-01, -4.12894e-01,  5.71421e-01],\n",
       "       [-6.94205e-01,  2.78961e-02, -7.19236e-01],\n",
       "       [ 6.81181e-01,  5.33350e-01,  5.01528e-01],\n",
       "       [-1.40978e-01, -7.29050e-01, -6.69784e-01],\n",
       "       [ 7.40351e-01, -3.93222e-01,  5.45212e-01],\n",
       "       [-1.01944e-01,  8.25404e-01, -5.55261e-01],\n",
       "       [ 5.83509e-01, -6.00385e-01, -5.46859e-01],\n",
       "       [ 8.66669e-02,  3.39104e-01,  9.36748e-01],\n",
       "       [ 5.50506e-01,  7.95484e-01,  2.53276e-01],\n",
       "       [ 8.37371e-01, -4.62163e-01,  2.91916e-01],\n",
       "       [-3.62527e-01,  5.65304e-01,  7.40949e-01],\n",
       "       [-1.83461e-01,  3.96756e-01,  8.99404e-01],\n",
       "       [-7.18319e-01, -6.95701e-01, -4.24514e-03],\n",
       "       [ 4.31996e-01,  6.86464e-01,  5.84933e-01],\n",
       "       [ 5.00977e-01,  6.94308e-01, -5.16680e-01],\n",
       "       [ 1.69597e-01,  5.13550e-01, -8.41132e-01],\n",
       "       [ 4.63360e-01,  4.27481e-01, -7.76246e-01],\n",
       "       [ 3.84024e-01, -8.12297e-01, -4.38975e-01],\n",
       "       [ 7.13857e-01,  2.51359e-01,  6.53626e-01],\n",
       "       [ 2.58398e-01,  8.87277e-01,  3.82061e-01],\n",
       "       [-9.28270e-04,  8.02399e-02,  9.96775e-01],\n",
       "       [-3.63633e-02,  9.04616e-01,  4.24675e-01],\n",
       "       [-5.70681e-01,  3.07326e-01, -7.61495e-01],\n",
       "       [-2.82028e-01,  1.48741e-01,  9.47806e-01],\n",
       "       [ 7.19926e-01,  6.12166e-01, -3.27047e-01],\n",
       "       [ 2.65067e-01,  9.60908e-01,  7.99761e-02]])"
      ]
     },
     "execution_count": 14,
     "metadata": {},
     "output_type": "execute_result"
    }
   ],
   "source": [
    "gtab.bvecs[~gtab.b0s_mask]"
   ]
  },
  {
   "cell_type": "markdown",
   "metadata": {},
   "source": [
    "It is also important to know where our diffusion weighting free measurements are as we need them for registration in our preprocessing, (our next notebook). The gtab.b0s_mask shows that this is our first volume of our dataset."
   ]
  },
  {
   "cell_type": "code",
   "execution_count": 12,
   "metadata": {},
   "outputs": [
    {
     "data": {
      "text/plain": [
       "array([ True, False, False, False, False, False, False, False, False,\n",
       "       False, False, False, False, False, False, False, False, False,\n",
       "       False, False, False, False, False, False, False, False, False,\n",
       "       False, False, False, False, False, False, False, False, False,\n",
       "       False, False, False, False, False, False, False, False, False,\n",
       "       False, False, False, False, False, False, False, False, False,\n",
       "       False, False, False, False, False, False, False, False, False,\n",
       "       False, False])"
      ]
     },
     "execution_count": 12,
     "metadata": {},
     "output_type": "execute_result"
    }
   ],
   "source": [
    "gtab.b0s_mask"
   ]
  },
  {
   "cell_type": "markdown",
   "metadata": {},
   "source": [
    "In the next few notebooks, we will talk more about preprocessing the diffusion weighted images and reconstructing the Tensor model"
   ]
  }
 ],
 "metadata": {
  "kernelspec": {
   "display_name": "Python 3",
   "language": "python",
   "name": "python3"
  },
  "language_info": {
   "codemirror_mode": {
    "name": "ipython",
    "version": 3
   },
   "file_extension": ".py",
   "mimetype": "text/x-python",
   "name": "python",
   "nbconvert_exporter": "python",
   "pygments_lexer": "ipython3",
   "version": "3.6.8"
  }
 },
 "nbformat": 4,
 "nbformat_minor": 4
}
