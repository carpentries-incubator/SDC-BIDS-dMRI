{
 "cells": [
  {
   "cell_type": "markdown",
   "metadata": {},
   "source": [
    "## Diffusion preprocessing \n",
    "\n",
    "Diffusion preprocessing typically comprises of a series of steps and is dependent on the data acquisition protocol. For the purposes of these lessons, the diffusion data has already been preprocessed and made available to use. Preprocessing is performed using a few well-known software packages (e.g. FSL, ANTS) and is chosen based on the acquisition protocol of the dataset `ds000030`. \n",
    "\n",
    "The first preprocessing step performed was the correction for eddy-current induced distortion and subject movement using FSL's `eddy`. "
   ]
  }
 ],
 "metadata": {
  "kernelspec": {
   "display_name": "dti_venv",
   "language": "python",
   "name": "dti_venv"
  },
  "language_info": {
   "codemirror_mode": {
    "name": "ipython",
    "version": 3
   },
   "file_extension": ".py",
   "mimetype": "text/x-python",
   "name": "python",
   "nbconvert_exporter": "python",
   "pygments_lexer": "ipython3",
   "version": "3.6.9"
  }
 },
 "nbformat": 4,
 "nbformat_minor": 4
}
