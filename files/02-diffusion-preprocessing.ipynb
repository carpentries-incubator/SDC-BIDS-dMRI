{
 "cells": [
  {
   "cell_type": "markdown",
   "metadata": {},
   "source": [
    "## Diffusion preprocessing \n",
    "\n",
    "Diffusion preprocessing typically comprises of a series of steps and is dependent on the data acquisition protocol. For the purposes of these lessons, the diffusion data has already been preprocessed and made available to use. Preprocessing is performed using a few well-known software packages (e.g. FSL, ANTS) and is chosen based on the acquisition protocol of the dataset `ds000030`. \n",
    "\n",
    "This dataset contains single shell data with one b0 image. This image is the volume of the diffusion series. There are 64 volumes with diffusion weighting.\n",
    "\n",
    "Our preprocesssing of this data will consist of two steps: (1) Eddy current distorition correction and (2) registration to T1.\n",
    "\n",
    "The first preprocessing step performed was the correction for eddy-current induced distortion and subject movement using FSL's `eddy`. "
   ]
  },
  {
   "cell_type": "markdown",
   "metadata": {},
   "source": [
    "Diffusion gradients create distortions that vary with gradient strength and direction. This results in images from the same acquisition that are at different points in space. eddy reads the gradient table and estimates the distortions image by image and corrects them so all images are in the same space as the b0 image. This can be seen below:"
   ]
  },
  {
   "cell_type": "code",
   "execution_count": null,
   "metadata": {},
   "outputs": [],
   "source": []
  },
  {
   "cell_type": "markdown",
   "metadata": {},
   "source": [
    "The final step to our diffusion processing is registration to the T1w image. This is important because the diffusion data is acquired using echo planar imaging or EPI. This method allows us to image quickly but introduces distortions in the images in addition to the eddy current distortions. If we do not correct for these the bvec files will be incorrect relative to the image we are analyzing as they are in scanner space. This was completed with the ANTS command `antsIntermodalityIntrasubject.sh`. This performs rigid, affine, and non-linear registration which corrects for the inter-sequence distortions. Lets looks at the results of this below:"
   ]
  },
  {
   "cell_type": "code",
   "execution_count": null,
   "metadata": {},
   "outputs": [],
   "source": []
  },
  {
   "cell_type": "markdown",
   "metadata": {},
   "source": [
    "Preprocessing notes:\n",
    "1. If we had more than one b0 image we could estimate and perform motion correction on our diffusion dataset.\n",
    "2. Non-linear T1 registration is the crudest method for undistorting data, you can also use a fieldmap or acquire the data using two phase encode directions and estimate the distortions from that."
   ]
  }
 ],
 "metadata": {
  "kernelspec": {
   "display_name": "Python 3",
   "language": "python",
   "name": "python3"
  },
  "language_info": {
   "codemirror_mode": {
    "name": "ipython",
    "version": 3
   },
   "file_extension": ".py",
   "mimetype": "text/x-python",
   "name": "python",
   "nbconvert_exporter": "python",
   "pygments_lexer": "ipython3",
   "version": "3.6.8"
  }
 },
 "nbformat": 4,
 "nbformat_minor": 4
}
