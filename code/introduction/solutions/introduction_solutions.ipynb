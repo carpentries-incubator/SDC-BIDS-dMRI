{
 "cells": [
  {
   "cell_type": "markdown",
   "metadata": {},
   "source": [
    "# Introduction to Diffusion MRI data\n",
    "\n",
    "_*Much of the material in both the current notebook and the upcoming notebooks are adapted from the lessons on [neuroimaging analysis with Python](https://github.com/datacarpentry/python-neuroimaging-lesson)._\n",
    "\n",
    "## Diffusion Weighted Imaging (DWI)\n",
    "\n",
    "Diffusion imaging probes the random, microscopic motion of water protons by employing MRI sequences which are sensitive to the geometry and environmental organization surrounding the water protons. This is a popular technique for studying the white matter of the brain. The diffusion within biological structures, such as the brain, are often restricted due to barriers (eg. cell membranes), resulting in a preferred direction of diffusion (anisotropy). A typical diffusion MRI scan will acquire multiple volumes that are sensitive to a particular diffusion direction and result in diffusion-weighted images (DWI). Diffusion that exhibits directionality in the same direction result in an attenuated signal. With further processing (to be discussed later in the lesson), the acquired images can provide measurements which are related to the microscopic changes and estimate white matter trajectories. Images with no diffusion weighting are also acquired as part of the acquisition protocol.\n",
    "\n",
    "![fiber_configurations](images/DiffusionDirections.png) \\\n",
    "Diffusion along X, Y, and Z directions"
   ]
  },
  {
   "cell_type": "markdown",
   "metadata": {},
   "source": [
    "## b-values & b-vectors\n",
    "\n",
    "In addition to the acquired diffusion images, two files are collected as part of the diffusion dataset. These files correspond to the gradient amplitude (b-values) and directions (b-vectors) of the diffusion measurement and are named with the extensiosn `.bval` and `.bvec` respectively. The b-value is the diffusion-sensitizing factor, and reflects the timing & strength of the gradients used to acquire the diffusion-weighted images. The b-vector corresponds to the direction of the diffusion sensitivity. Together these two files define the diffusion MRI measurement as a set of gradient directions and corresponding amplitudes."
   ]
  },
  {
   "cell_type": "markdown",
   "metadata": {},
   "source": [
    "## Dataset\n",
    "\n",
    "For the rest of this tutorial, we will make use of a subset of publicly available dataset, ds000030, from [openneuro.org](https://openneuro.org/datasets/ds000030) The dataset is structured according to the Brain Imaging Data Structure ([BIDS](https://bids-specification.readthedocs.io/en/etable/)). "
   ]
  },
  {
   "cell_type": "markdown",
   "metadata": {},
   "source": [
    "Below is a tree diagram showing the folder structure of a single MR subject and session within ds000221. This was obtained by using the bash command `tree`.\n",
    "\n",
    "`!tree ../../data/ds000221`\n",
    "\n",
    "```\n",
    "../../data/ds000221\n",
    "├── .bidsignore\n",
    "├── CHANGES\n",
    "├── dataset_description.json\n",
    "├── participants.tsv\n",
    "├── README\n",
    "├── derivatives/\n",
    "├── sub-010001/\n",
    "└── sub-010002/\n",
    "    ├── ses-01/\n",
    "    │    ├── anat\n",
    "    │    │    ├── sub-010002_ses-01_acq-lowres_FLAIR.json\n",
    "    │    │    ├── sub-010002_ses-01_acq-lowres_FLAIR.nii.gz\n",
    "    │    │    ├── sub-010002_ses-01_acq-mp2rage_defacemask.nii.gz\n",
    "    │    │    ├── sub-010002_ses-01_acq-mp2rage_T1map.nii.gz\n",
    "    │    │    ├── sub-010002_ses-01_acq-mp2rage_T1w.nii.gz\n",
    "    │    │    ├── sub-010002_ses-01_inv-1_mp2rage.json\n",
    "    │    │    ├── sub-010002_ses-01_inv-1_mp2rage.nii.gz\n",
    "    │    │    ├── sub-010002_ses-01_inv-2_mp2rage.json\n",
    "    │    │    ├── sub-010002_ses-01_inv-2_mp2rage.nii.gz\n",
    "    │    │    ├── sub-010002_ses-01_T2w.json\n",
    "    │    │    └── sub-010002_ses-01_T2w.nii.gz\n",
    "    │    ├── dwi\n",
    "    │    │    ├── sub-010002_ses-01_dwi.bval\n",
    "    │    │    │── sub-010002_ses-01_dwi.bvec\n",
    "    │    │    │── sub-010002_ses-01_dwi.json\n",
    "    │    │    └── sub-010002_ses-01_dwi.nii.gz\n",
    "    │    ├── fmap\n",
    "    │    │    ├── sub-010002_ses-01_acq-GEfmap_run-01_magnitude1.json\n",
    "    │    │    ├── sub-010002_ses-01_acq-GEfmap_run-01_magnitude1.nii.gz\n",
    "    │    │    ├── sub-010002_ses-01_acq-GEfmap_run-01_magnitude2.json\n",
    "    │    │    ├── sub-010002_ses-01_acq-GEfmap_run-01_magnitude2.nii.gz\n",
    "    │    │    ├── sub-010002_ses-01_acq-GEfmap_run-01_phasediff.json\n",
    "    │    │    ├── sub-010002_ses-01_acq-GEfmap_run-01_phasediff.nii.gz\n",
    "    │    │    ├── sub-010002_ses-01_acq-SEfmapBOLDpost_dir-AP_epi.json\n",
    "    │    │    ├── sub-010002_ses-01_acq-SEfmapBOLDpost_dir-AP_epi.nii.gz\n",
    "    │    │    ├── sub-010002_ses-01_acq-SEfmapBOLDpost_dir-PA_epi.json\n",
    "    │    │    ├── sub-010002_ses-01_acq-SEfmapBOLDpost_dir-PA_epi.nii.gz\n",
    "    │    │    ├── sub-010002_ses-01_acq-sefmapBOLDpre_dir-AP_epi.json\n",
    "    │    │    ├── sub-010002_ses-01_acq-sefmapBOLDpre_dir-AP_epi.nii.gz\n",
    "    │    │    ├── sub-010002_ses-01_acq-sefmapBOLDpre_dir-PA_epi.json\n",
    "    │    │    ├── sub-010002_ses-01_acq-sefmapBOLDpre_dir-PA_epi.nii.gz\n",
    "    │    │    ├── sub-010002_ses-01_acq-SEfmapBOLDpost_dir-AP_epi.json\n",
    "    │    │    ├── sub-010002_ses-01_acq-SEfmapBOLDpost_dir-AP_epi.nii.gz\n",
    "    │    │    ├── sub-010002_ses-01_acq-SEfmapBOLDpost_dir-PA_epi.json\n",
    "    │    │    ├── sub-010002_ses-01_acq-SEfmapBOLDpost_dir-PA_epi.nii.gz\n",
    "    │    │    ├── sub-010002_ses-01_acq-SEfmapDWI_dir-AP_epi.json\n",
    "    │    │    ├── sub-010002_ses-01_acq-SEfmapDWI_dir-AP_epi.nii.gz\n",
    "    │    │    ├── sub-010002_ses-01_acq-SEfmapDWI_dir-PA_epi.json\n",
    "    │    │    └── sub-010002_ses-01_acq-SEfmapDWI_dir-PA_epi.nii.gz\n",
    "    │    └── fmap\n",
    "    │    │    ├── sub-010002_ses-01_task-rest_acq-AP_run-01_bold.json\n",
    "    │    │    └── sub-010002_ses-01_task-rest_acq-AP_run-01_bold.nii.gz\n",
    "    └── ses-02/\n",
    "    ```"
   ]
  },
  {
   "cell_type": "markdown",
   "metadata": {},
   "source": [
    "## Querying a BIDS Dataset\n",
    "\n",
    "[`pybids`](https://bids-standard.github.io/pybids/) is a Python API for querying, summarizing and manipulating the BIDS folder structure. We will make use of `pybids` to query the necessary files. \n",
    "\n",
    "Lets first pull the metadata from its associated JSON file using the `get_metadata()` function for the first run."
   ]
  },
  {
   "cell_type": "code",
   "execution_count": null,
   "metadata": {},
   "outputs": [],
   "source": [
    "?BIDSLayout"
   ]
  },
  {
   "cell_type": "code",
   "execution_count": null,
   "metadata": {},
   "outputs": [],
   "source": [
    "from bids.layout import BIDSLayout\n",
    "\n",
    "layout = BIDSLayout(\"../../../data/ds000221\", validate=False)"
   ]
  },
  {
   "cell_type": "code",
   "execution_count": null,
   "metadata": {
    "collapsed": true,
    "jupyter": {
     "outputs_hidden": true
    }
   },
   "outputs": [],
   "source": [
    "dwi = layout.get(subject='010006', suffix='dwi', extension='nii.gz', return_type='file')[0]\n",
    "layout.get_metadata(dwi)"
   ]
  },
  {
   "cell_type": "markdown",
   "metadata": {},
   "source": [
    "## [`dipy`](http://dipy.org)\n",
    "\n",
    "For this lesson, we will use the `Dipy` (Diffusion Imaging in Python) package for processing and analysing diffusion MRI.\n",
    "\n",
    "### Why `dipy`? \n",
    "\n",
    "- Fully free and open source\n",
    "- Implemented in Python. Easy to understand, and easy to use.\n",
    "- Implementations of many state-of-the art algorithms\n",
    "- High performance. Many algorithms implemented in [`cython`](http://cython.org/)\n",
    "\n",
    "### Installing `dipy`\n",
    "\n",
    "The easiest way to install `Dipy` is to use `pip`! Additionally, `Dipy` makes use of the FURY library for visualization. We will also install this using `pip`!\n",
    "\n",
    "We can install it by entering the following in a terminal `pip install dipy`. We will do so using Jupyter Magic in the following cell!"
   ]
  },
  {
   "cell_type": "code",
   "execution_count": null,
   "metadata": {},
   "outputs": [],
   "source": [
    "! pip install dipy\n",
    "! pip install fury"
   ]
  },
  {
   "cell_type": "markdown",
   "metadata": {},
   "source": [
    "### Defining a measurement: `GradientTable`\n",
    "\n",
    "`Dipy` has a built-in function that allows us to read in `bval` and `bvec` files named `read_bvals_bvecs` under the `dipy.io.gradients` module. Let's first grab the path to our gradient directions and amplitude files and load them into memory."
   ]
  },
  {
   "cell_type": "code",
   "execution_count": null,
   "metadata": {
    "collapsed": true,
    "jupyter": {
     "outputs_hidden": true
    }
   },
   "outputs": [],
   "source": [
    "bvec = layout.get_bvec(dwi)\n",
    "bval = layout.get_bval(dwi)"
   ]
  },
  {
   "cell_type": "code",
   "execution_count": null,
   "metadata": {},
   "outputs": [],
   "source": [
    "from dipy.io.gradients import read_bvals_bvecs\n",
    "from dipy.core.gradients import gradient_table\n",
    "\n",
    "gt_bvals, gt_bvecs = read_bvals_bvecs(bval, bvec)"
   ]
  },
  {
   "cell_type": "markdown",
   "metadata": {
    "jupyter": {
     "outputs_hidden": true
    }
   },
   "source": [
    "There is a also simple `GradientTable` object implemented in the `dipy.core.gradients` module. The input to the `GradientTable` should be our the values for our gradient directions and amplitudes we just read."
   ]
  },
  {
   "cell_type": "code",
   "execution_count": null,
   "metadata": {},
   "outputs": [],
   "source": [
    "gtab = gradient_table(gt_bvals, gt_bvecs)"
   ]
  },
  {
   "cell_type": "markdown",
   "metadata": {},
   "source": [
    "We will need this gradient table later on to process our data and generate diffusion tensor images (DTI)! \n",
    "\n",
    "There is also a built in function for gradient tables, `b0s_mask` that can be used to separate difussion weighted measurements from non-diffusion weighted measurements (b=0s/mm^2). Try to extract the vector corresponding to diffusion weighted measurements in the following cell!"
   ]
  },
  {
   "cell_type": "code",
   "execution_count": null,
   "metadata": {},
   "outputs": [],
   "source": [
    "gtab.bvecs[~gtab.b0s_mask]"
   ]
  },
  {
   "cell_type": "markdown",
   "metadata": {},
   "source": [
    "It is also important to know where our diffusion weighting free measurements are as we need them for registration in our preprocessing, (our next notebook). The `b0s_mask` shows that this is the first volume of our dataset."
   ]
  },
  {
   "cell_type": "code",
   "execution_count": null,
   "metadata": {},
   "outputs": [],
   "source": [
    "gtab.b0s_mask"
   ]
  },
  {
   "cell_type": "markdown",
   "metadata": {},
   "source": [
    "In the next few notebooks, we will talk more about preprocessing the diffusion weighted images and reconstructing the Tensor model"
   ]
  }
 ],
 "metadata": {
  "kernelspec": {
   "name": "python3",
   "display_name": "Python 3.7.4 64-bit ('sdc-dmri_venv': pyenv)",
   "metadata": {
    "interpreter": {
     "hash": "df9a1fb9ddadb6ac6ff99c8fe9ccf963050f17681aeb0dab008e78c4d51aff8c"
    }
   }
  },
  "language_info": {
   "codemirror_mode": {
    "name": "ipython",
    "version": 3
   },
   "file_extension": ".py",
   "mimetype": "text/x-python",
   "name": "python",
   "nbconvert_exporter": "python",
   "pygments_lexer": "ipython3",
   "version": "3.7.4"
  }
 },
 "nbformat": 4,
 "nbformat_minor": 4
}