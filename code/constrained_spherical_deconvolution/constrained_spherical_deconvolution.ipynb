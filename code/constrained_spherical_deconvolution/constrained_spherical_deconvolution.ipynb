{
 "cells": [
  {
   "cell_type": "markdown",
   "metadata": {},
   "source": [
    "## Constrained Spherical Deconvolution (CSD)\n",
    "\n",
    "Spherical Deconvolution (SD) is a set of methods to reconstruct the local fiber Orientation Distribution Functions (fODF) from diffusion MRI data. They have become a popular choice for recovering the fiber orientation due to their ability to resolve fiber crossings with small inter-fiber angles in datasets\n",
    "acquired within a clinically feasible scan time. SD methods are based on the assumption that the acquired diffusion signal in each voxel can be modeled as a spherical convolution between the fODF and the fiber response function (FRF) that describes the common signal profile from the white matter (WM) bundles contained in the voxel. Thus, if the FRF can be estimated, the fODF can be recovered as a deconvolution problem by solving a system of linear equations.\n",
    "These methods can work on both single-shell and multi-shell data.\n",
    "\n",
    "The basic equations of an SD method can summarized as\n",
    "![spherical_deconvolution_equation](../../fig/constrained_spherical_deconvolution/spherical_deconvolution_equation.png){:class=\"img-responsive\"} \\\n",
    "Spherical deconvolution\n",
    "\n",
    "There are a number of variants to the general SD framework that differ, among\n",
    "others, in the minimization objective and the regularization penalty imposed to\n",
    "obtain some desirable properties in the linear equation framework.\n",
    "\n",
    "In order to perform the deconvolution over the sphere, the spherical\n",
    "representation of the diffusion data has to be obtained. This is done using the\n",
    "so-called Spherical Harmonics (SH) which are a basis that allow to represent any\n",
    "function on the sphere (much like the Fourier analysis allows to represent\n",
    "a function in terms of trigonometric functions).\n",
    "\n",
    "In this episode we will be using the Constrained Spherical Deconvolution (CSD)\n",
    "method proposed by Tournier *et al*. in 2007. In essence, CSD imposes a\n",
    "non-negativity constraint in the reconstructed fODF. For the sake of simplicity,\n",
    "single-shell data will be used in this episode.\n",
    "\n",
    "Let's start by loading the necessary data. For simplicity, we will assume that\n",
    "the gradient table is the same across all voxels after the pre-processing."
   ]
  },
  {
   "cell_type": "code",
   "execution_count": null,
   "metadata": {},
   "outputs": [],
   "source": [
    "import os\n",
    "\n",
    "import nibabel as nib\n",
    "import numpy as np\n",
    "\n",
    "from bids.layout import BIDSLayout\n",
    "\n",
    "from dipy.core.gradients import gradient_table\n",
    "from dipy.data import default_sphere\n",
    "from dipy.io.gradients import read_bvals_bvecs\n",
    "from dipy.io.image import load_nifti\n",
    "\n",
    "\n",
    "dwi_layout = BIDSLayout('../../data/ds000221/derivatives/uncorrected_topup_eddy/', validate=False)\n",
    "t1_layout = BIDSLayout('../../data/ds000221/derivatives/uncorrected_topup_eddy_regT1/', validate=False)\n",
    "gradient_layout = BIDSLayout('../../data/ds000221/sub-010006/ses-01/dwi/', validate=False)\n",
    "\n",
    "subj = '010006'\n",
    "\n",
    "# Get the diffusion files\n",
    "dwi_fname = dwi_layout.get(subject=subj, suffix='dwi', extension='nii.gz', return_type='file')[0]\n",
    "bvec_fname = dwi_layout.get(subject=subj, extension='eddy_rotated_bvecs', return_type='file')[0]\n",
    "bval_fname = gradient_layout.get(subject=subj, suffix='dwi', extension='bval', return_type='file')[0]\n",
    "\n",
    "\n",
    "# Get the anatomical file\n",
    "t1w_fname = t1_layout.get(subject=subj, extension='nii.gz', return_type='file')[0]\n",
    "\n",
    "data, affine = load_nifti(dwi_fname)\n",
    "\n",
    "bvals, bvecs = read_bvals_bvecs(bval_fname, bvec_fname)\n",
    "gtab = gradient_table(bvals, bvecs)"
   ]
  },
  {
   "cell_type": "markdown",
   "metadata": {},
   "source": [
    "You can verify the b-values of the dataset by looking at the attribute\n",
    "``gtab.bvals``. Now that a datasets with multiple gradient directions is\n",
    "loaded, we can proceed with the two steps of CSD.\n",
    "\n",
    "## Step 1. Estimation of the fiber response function.\n",
    "\n",
    "In this episode the response function will be estimated from a local brain region\n",
    "known to belong to the white matter and where it is known that there are single\n",
    "coherent fiber populations. This is determined by checking the Fractional\n",
    "Anisotropy (FA) derived from the DTI model.\n",
    "\n",
    "For example, if we use an ROI at the center of the brain, we will\n",
    "find single fibers from the corpus callosum. `DIPY`'s `auto_response` function\n",
    "will calculate FA for an ROI of radius equal to `roi_radius` in the center\n",
    "of the volume and return the response function estimated in that region for\n",
    "the voxels with FA higher than a given threshold."
   ]
  },
  {
   "cell_type": "code",
   "execution_count": null,
   "metadata": {},
   "outputs": [],
   "source": [
    "from dipy.reconst.csdeconv import auto_response\n",
    "\n",
    "response, ratio = auto_response(gtab, data, roi_radius=10, fa_thr=0.7)\n",
    "\n",
    "# Create the directory to save the results\n",
    "out_dir = '../../data/ds000221/derivatives/dwi/reconstruction/sub-%s/ses-01/dwi/' % subj\n",
    "\n",
    "if not os.path.exists(out_dir):\n",
    "    os.makedirs(out_dir)\n",
    "\n",
    "# Save the FRF\n",
    "np.savetxt(os.path.join(out_dir, 'frf.txt'), np.hstack([response[0], response[1]]))"
   ]
  },
  {
   "cell_type": "markdown",
   "metadata": {},
   "source": [
    "The `response` tuple contains two elements. The first is an array with\n",
    "the eigenvalues of the response function and the second is the average `S0`\n",
    "signal value for this response.\n",
    "\n",
    "Validating the numerical value of the response function is recommended to ensure\n",
    "that the FA-based strategy provides a good result. To this end, the elements of\n",
    "the `response` tuple can be printed and their values be studied."
   ]
  },
  {
   "cell_type": "code",
   "execution_count": null,
   "metadata": {},
   "outputs": [],
   "source": [
    "print(response)"
   ]
  },
  {
   "cell_type": "markdown",
   "metadata": {},
   "source": [
    "(array([0.00159258, 0.00033926, 0.00033926]), 209.55229)"
   ]
  },
  {
   "cell_type": "markdown",
   "metadata": {},
   "source": [
    "The tensor generated belonging to the response function must be prolate (two\n",
    "smaller eigenvalues should be equal), and look anisotropic with a ratio of\n",
    "second to first eigenvalue of about 0.2. Or in other words, the axial\n",
    "diffusivity of this tensor should be around 5 times larger than the radial\n",
    "diffusivity. It is generally accepted that a response function with the\n",
    "mentioned features is representative of a coherently oriented fiber population."
   ]
  },
  {
   "cell_type": "code",
   "execution_count": null,
   "metadata": {},
   "outputs": [],
   "source": [
    "print(ratio)"
   ]
  },
  {
   "cell_type": "code",
   "execution_count": null,
   "metadata": {},
   "outputs": [],
   "source": [
    "0.21373311340767914"
   ]
  },
  {
   "cell_type": "markdown",
   "metadata": {},
   "source": [
    "It is good practice to visualize the response function's ODF, which also gives\n",
    "an insightful idea around the SD framework. The response function's ODF should\n",
    "have sharp lobes, as the anisotropy of its diffusivity indicates:"
   ]
  },
  {
   "cell_type": "code",
   "execution_count": null,
   "metadata": {},
   "outputs": [],
   "source": [
    "from dipy.viz import window, actor\n",
    "from dipy.sims.voxel import single_tensor_odf\n",
    "\n",
    "scene = window.Scene()\n",
    "evals = response[0]\n",
    "evecs = np.array([[0, 1, 0], [0, 0, 1], [1, 0, 0]]).T\n",
    "\n",
    "response_odf = single_tensor_odf(default_sphere.vertices, evals, evecs)\n",
    "# Transform the data from 1D to 4D\n",
    "response_odf = response_odf[None, None, None, :]\n",
    "response_actor = actor.odf_slicer(response_odf, sphere=default_sphere,\n",
    "                                  colormap='plasma')\n",
    "scene.add(response_actor)\n",
    "response_scene_arr = window.snapshot(\n",
    "    scene, fname=os.path.join(out_dir, 'frf.png'), size=(200, 200),\n",
    "    offscreen=True)\n",
    "\n",
    "import matplotlib.pyplot as plt\n",
    "%matplotlib inline\n",
    "\n",
    "fig, axes = plt.subplots()\n",
    "axes.imshow(response_scene_arr, cmap=\"plasma\", origin=\"lower\")\n",
    "axes.axis(\"off\")\n",
    "plt.show()\n"
   ]
  },
  {
   "cell_type": "markdown",
   "metadata": {},
   "source": [
    "![frf](../../fig/constrained_spherical_deconvolution/frf.png){:class=\"img-responsive\"} \\\n",
    "Estimated response function"
   ]
  },
  {
   "cell_type": "code",
   "execution_count": null,
   "metadata": {},
   "outputs": [],
   "source": [
    "scene.rm(response_actor)"
   ]
  },
  {
   "cell_type": "markdown",
   "metadata": {},
   "source": [
    "Note that, although fast, the FA threshold might not always be the best way to\n",
    "find the response function, since it depends on the diffusion tensor, which has\n",
    "a number of limitations. Similarly, different bundles are known to have\n",
    "different response functions. More importantly, it also varies across subjects,\n",
    "and hence it must be computed on a case basis.\n",
    "\n",
    "\n",
    "## Step 2. fODF reconstruction\n",
    "\n",
    "After estimating a response function, the fODF is reconstructed through the\n",
    "deconvolution operation. In order to obtain the spherical representation of the\n",
    "diffusion signal, the order of the Spherical Harmonics expansion must be\n",
    "specified. The order, $l$, corresponds to an angular frequency of the basis function. While the series is infinite, it must be truncated to a maximum order in\n",
    "practice to be able to represent the diffusion signal. The maximum order will\n",
    "determine the number of SH coefficients used. The number of diffusion encoding\n",
    "gradient directions must be at least as large as the number of coefficients.\n",
    "Hence, the maximum order $l_{max}$ is determined by the equation $R = (l_{max}+1)(l_{max}+2)/2$,\n",
    "where $R$ is the number of coefficients. For example, an order $l_{max} = {4, 6, 8}$ SH\n",
    "series has $R = {15, 28, 45}$ coefficients, respectively. Note the use of even\n",
    "orders: even order SH functions allow to reconstruct symmetric spherical\n",
    "functions. Traditionally, even orders have been used motivated by the fact that\n",
    "the diffusion process is symmetric around the origin.\n",
    "\n",
    "The CSD is performed in `DIPY` by calling the `fit` method of the CSD model on\n",
    "the diffusion data:"
   ]
  },
  {
   "cell_type": "code",
   "execution_count": null,
   "metadata": {},
   "outputs": [],
   "source": [
    "from dipy.reconst.csdeconv import ConstrainedSphericalDeconvModel\n",
    "\n",
    "sh_order = 8\n",
    "csd_model = ConstrainedSphericalDeconvModel(gtab, response, sh_order=sh_order, convergence=50)"
   ]
  },
  {
   "cell_type": "markdown",
   "metadata": {},
   "source": [
    "For illustration purposes we will fit only a small portion of the data representing the splenium of the corpus callosum."
   ]
  },
  {
   "cell_type": "code",
   "execution_count": null,
   "metadata": {},
   "outputs": [],
   "source": [
    "data_small = data[40:80, 40:80, 45:55]\n",
    "csd_fit = csd_model.fit(data_small)\n",
    "\n",
    "sh_coeffs = csd_fit.shm_coeff\n",
    "\n",
    "# Save the SH coefficients\n",
    "nib.save(nib.Nifti1Image(sh_coeffs.astype(np.float32), affine), os.path.join(out_dir, 'sh_coeffs.nii.gz'))"
   ]
  },
  {
   "cell_type": "markdown",
   "metadata": {},
   "source": [
    "Getting the fODFs from the model fit is straightforward in `DIPY`. As a side\n",
    "note, it is worthwhile mentioning that the orientation distribution recovered\n",
    "by SD methods is also named fODFs to distinguish from the diffusion ODFs (dODFs)\n",
    "that other reconstruction methods recover. The former are considered to be a\n",
    "sharper version of the latter. At times, they are also called Fiber Orientation\n",
    "Distribution (FOD)."
   ]
  },
  {
   "cell_type": "code",
   "execution_count": null,
   "metadata": {},
   "outputs": [],
   "source": [
    "csd_odf = csd_fit.odf(default_sphere)"
   ]
  },
  {
   "cell_type": "markdown",
   "metadata": {},
   "source": [
    "We will now use the `generate_anatomical_slice_figure` utility function that allows us to generate three anatomical views (axial superior, sagittal right and coronal anterior) of the data.\n",
    "\n",
    "Here we visualize only the central slices of the 40x40x10 region (i.e. the `[40:80, 40:80, 45:55]` volume data region) that has been used."
   ]
  },
  {
   "cell_type": "code",
   "execution_count": null,
   "metadata": {},
   "outputs": [],
   "source": [
    "from utils.visualization_utils import generate_anatomical_slice_figure\n",
    "\n",
    "colormap = \"plasma\"\n",
    "\n",
    "# Build the representation of the data\n",
    "fodf_actor = actor.odf_slicer(csd_odf, sphere=default_sphere, scale=0.9, norm=False, colormap=colormap)\n",
    "\n",
    "# Compute the slices to be shown\n",
    "slices = tuple(elem // 2 for elem in data_small.shape[:-1])\n",
    "\n",
    "# Generate the figure\n",
    "fig = generate_anatomical_slice_figure(slices, fodf_actor, cmap=colormap)\n",
    "\n",
    "fig.savefig(os.path.join(out_dir, \"csd_odfs.png\"), dpi=300, bbox_inches=\"tight\")\n",
    "plt.show()"
   ]
  },
  {
   "cell_type": "markdown",
   "metadata": {},
   "source": [
    "![csd_odfs](../../fig/constrained_spherical_deconvolution/csd_odfs.png){:class=\"img-responsive\"} \\\n",
    "CSD ODFs.\n",
    "\n",
    "The peak directions (maxima) of the fODFs can be found from the fODFs. For this\n",
    "purpose, `DIPY` offers the `peaks_from_model` method."
   ]
  },
  {
   "cell_type": "code",
   "execution_count": null,
   "metadata": {},
   "outputs": [],
   "source": [
    "from dipy.direction import peaks_from_model\n",
    "from dipy.io.peaks import reshape_peaks_for_visualization\n",
    "\n",
    "csd_peaks = peaks_from_model(model=csd_model,\n",
    "                             data=data_small,\n",
    "                             sphere=default_sphere,\n",
    "                             relative_peak_threshold=.5,\n",
    "                             min_separation_angle=25,\n",
    "                             parallel=True)\n",
    "\n",
    "# Save the peaks\n",
    "nib.save(nib.Nifti1Image(reshape_peaks_for_visualization(csd_peaks),\n",
    "                         affine), os.path.join(out_dir, 'peaks.nii.gz'))\n",
    "\n",
    "peak_indices = csd_peaks.peak_indices\n",
    "nib.save(nib.Nifti1Image(peak_indices, affine), os.path.join(out_dir, 'peaks_indices.nii.gz'))\n",
    "\n",
    "# Build the representation of the data\n",
    "peaks_actor = actor.peak_slicer(csd_peaks.peak_dirs, csd_peaks.peak_values)\n",
    "\n",
    "# Generate the figure\n",
    "fig = generate_anatomical_slice_figure(slices, peaks_actor, cmap=colormap)\n",
    "\n",
    "fig.savefig(os.path.join(out_dir, \"csd_peaks.png\"), dpi=300, bbox_inches=\"tight\")\n",
    "plt.show()\n"
   ]
  },
  {
   "cell_type": "markdown",
   "metadata": {},
   "source": [
    "![csd_peaks](../../fig/constrained_spherical_deconvolution/csd_peaks.png){:class=\"img-responsive\"} \\\n",
    "CSD Peaks.\n",
    "\n",
    "We can finally visualize both the fODFs and peaks in the same space."
   ]
  },
  {
   "cell_type": "code",
   "execution_count": null,
   "metadata": {},
   "outputs": [],
   "source": [
    "fodf_actor.GetProperty().SetOpacity(0.4)\n",
    "\n",
    "# Generate the figure\n",
    "fig = generate_anatomical_slice_figure(slices, peaks_actor, fodf_actor, cmap=colormap)\n",
    "\n",
    "fig.savefig(os.path.join(out_dir, \"csd_peaks_fodfs.png\"), dpi=300, bbox_inches=\"tight\")\n",
    "plt.show()"
   ]
  },
  {
   "cell_type": "markdown",
   "metadata": {},
   "source": [
    "![csd_peaks_fodfs](../../fig/constrained_spherical_deconvolution/csd_peaks_fodfs.png){:class=\"img-responsive\"} \\\n",
    "\n",
    "\n",
    "\n",
    "References\n",
    "----------\n",
    "\n",
    ".. [Tournier2007] J-D. Tournier, F. Calamante and A. Connelly, \"Robust\n",
    "   determination of the fibre orientation distribution in diffusion MRI:\n",
    "   Non-negativity constrained super-resolved spherical deconvolution\",\n",
    "   Neuroimage, vol. 35, no. 4, pp. 1459-1472, 2007.\n",
    "\n",
    "\n",
    "{% include links.md %}"
   ]
  }
 ],
 "metadata": {
  "kernelspec": {
   "name": "python3",
   "display_name": "Python 3.7.10 64-bit ('.dipyvenv')",
   "metadata": {
    "interpreter": {
     "hash": "00845143fadc332d3737d0be50975251f1cd38f5b7cfd3b1bad35825bbe04988"
    }
   }
  }
 },
 "nbformat": 4,
 "nbformat_minor": 4
}
