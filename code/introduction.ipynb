{
 "cells": [
  {
   "cell_type": "markdown",
   "metadata": {},
   "source": [
    "# Introduction to Diffusion MRI data\n",
    "\n",
    "_Much of the material in both the current notebook and the upcoming notebooks are adapted from the lessons on [neuroimaging analysis with Python](https://github.com/datacarpentry/python-neuroimaging-lesson)._\n",
    "\n",
    "## Diffusion Weighted Imaging (DWI)\n",
    "\n",
    "Diffusion imaging probes the random, microscopic motion of water protons by employing MRI sequences which are sensitive to the geometry and environmental organization surrounding the water protons. This is a popular technique for studying the white matter of the brain. The diffusion within biological structures, such as the brain, are often restricted due to barriers (eg. cell membranes), resulting in a preferred direction of diffusion (anisotropy). A typical diffusion MRI scan will acquire multiple volumes that are sensitive to a particular diffusion direction and result in diffusion-weighted images (DWI). Diffusion that exhibits directionality in the same direction result in an attenuated signal. With further processing (to be discussed later in the lesson), the acquired images can provide measurements which are related to the microscopic changes and estimate white matter trajectories. Images with no diffusion weighting are also acquired as part of the acquisition protocol.\n",
    "\n",
    "![fiber_configurations](../../../fig/introduction/DiffusionDirections.png) \\\n",
    "Diffusion along X, Y, and Z directions"
   ]
  },
  {
   "cell_type": "markdown",
   "metadata": {},
   "source": [
    "## b-values & b-vectors\n",
    "\n",
    "In addition to the acquired diffusion images, two files are collected as part of the diffusion dataset. These files correspond to the gradient amplitude (b-values) and directions (b-vectors) of the diffusion measurement and are named with the extensiosn `.bval` and `.bvec` respectively. The b-value is the diffusion-sensitizing factor, and reflects the timing & strength of the gradients used to acquire the diffusion-weighted images. The b-vector corresponds to the direction of the diffusion sensitivity. Together these two files define the diffusion MRI measurement as a set of gradient directions and corresponding amplitudes."
   ]
  },
  {
   "cell_type": "markdown",
   "metadata": {},
   "source": [
    "## Dataset\n",
    "\n",
    "For the rest of this lesson, we will make use of a subset of a publicly available dataset, ds000221, originally hosted at [openneuro.org](https://openneuro.org/datasets/ds000221/versions/1.0.0). The dataset is structured according to the Brain Imaging Data Structure ([BIDS](https://bids-specification.readthedocs.io/en/etable/)). Please check the [the BIDS-dMRI Setup page](https://carpentries-incubator.github.io/SDC-BIDS-dMRI/setup.html) to download the dataset."
   ]
  },
  {
   "cell_type": "markdown",
   "metadata": {},
   "source": [
    "Below is a tree diagram showing the folder structure of a single MR subject and session within ds000221. This was obtained by using the bash command `tree`.\n",
    "\n",
    "`!tree ../../../data/ds000221`\n",
    "\n",
    "```\n",
    "../../../data/ds000221\n",
    "├── .bidsignore\n",
    "├── CHANGES\n",
    "├── dataset_description.json\n",
    "├── participants.tsv\n",
    "├── README\n",
    "├── derivatives/\n",
    "├── sub-010001/\n",
    "└── sub-010002/\n",
    "    ├── ses-01/\n",
    "    │    ├── anat\n",
    "    │    │    ├── sub-010002_ses-01_acq-lowres_FLAIR.json\n",
    "    │    │    ├── sub-010002_ses-01_acq-lowres_FLAIR.nii.gz\n",
    "    │    │    ├── sub-010002_ses-01_acq-mp2rage_defacemask.nii.gz\n",
    "    │    │    ├── sub-010002_ses-01_acq-mp2rage_T1map.nii.gz\n",
    "    │    │    ├── sub-010002_ses-01_acq-mp2rage_T1w.nii.gz\n",
    "    │    │    ├── sub-010002_ses-01_inv-1_mp2rage.json\n",
    "    │    │    ├── sub-010002_ses-01_inv-1_mp2rage.nii.gz\n",
    "    │    │    ├── sub-010002_ses-01_inv-2_mp2rage.json\n",
    "    │    │    ├── sub-010002_ses-01_inv-2_mp2rage.nii.gz\n",
    "    │    │    ├── sub-010002_ses-01_T2w.json\n",
    "    │    │    └── sub-010002_ses-01_T2w.nii.gz\n",
    "    │    ├── dwi\n",
    "    │    │    ├── sub-010002_ses-01_dwi.bval\n",
    "    │    │    │── sub-010002_ses-01_dwi.bvec\n",
    "    │    │    │── sub-010002_ses-01_dwi.json\n",
    "    │    │    └── sub-010002_ses-01_dwi.nii.gz\n",
    "    │    ├── fmap\n",
    "    │    │    ├── sub-010002_ses-01_acq-GEfmap_run-01_magnitude1.json\n",
    "    │    │    ├── sub-010002_ses-01_acq-GEfmap_run-01_magnitude1.nii.gz\n",
    "    │    │    ├── sub-010002_ses-01_acq-GEfmap_run-01_magnitude2.json\n",
    "    │    │    ├── sub-010002_ses-01_acq-GEfmap_run-01_magnitude2.nii.gz\n",
    "    │    │    ├── sub-010002_ses-01_acq-GEfmap_run-01_phasediff.json\n",
    "    │    │    ├── sub-010002_ses-01_acq-GEfmap_run-01_phasediff.nii.gz\n",
    "    │    │    ├── sub-010002_ses-01_acq-SEfmapBOLDpost_dir-AP_epi.json\n",
    "    │    │    ├── sub-010002_ses-01_acq-SEfmapBOLDpost_dir-AP_epi.nii.gz\n",
    "    │    │    ├── sub-010002_ses-01_acq-SEfmapBOLDpost_dir-PA_epi.json\n",
    "    │    │    ├── sub-010002_ses-01_acq-SEfmapBOLDpost_dir-PA_epi.nii.gz\n",
    "    │    │    ├── sub-010002_ses-01_acq-sefmapBOLDpre_dir-AP_epi.json\n",
    "    │    │    ├── sub-010002_ses-01_acq-sefmapBOLDpre_dir-AP_epi.nii.gz\n",
    "    │    │    ├── sub-010002_ses-01_acq-sefmapBOLDpre_dir-PA_epi.json\n",
    "    │    │    ├── sub-010002_ses-01_acq-sefmapBOLDpre_dir-PA_epi.nii.gz\n",
    "    │    │    ├── sub-010002_ses-01_acq-SEfmapBOLDpost_dir-AP_epi.json\n",
    "    │    │    ├── sub-010002_ses-01_acq-SEfmapBOLDpost_dir-AP_epi.nii.gz\n",
    "    │    │    ├── sub-010002_ses-01_acq-SEfmapBOLDpost_dir-PA_epi.json\n",
    "    │    │    ├── sub-010002_ses-01_acq-SEfmapBOLDpost_dir-PA_epi.nii.gz\n",
    "    │    │    ├── sub-010002_ses-01_acq-SEfmapDWI_dir-AP_epi.json\n",
    "    │    │    ├── sub-010002_ses-01_acq-SEfmapDWI_dir-AP_epi.nii.gz\n",
    "    │    │    ├── sub-010002_ses-01_acq-SEfmapDWI_dir-PA_epi.json\n",
    "    │    │    └── sub-010002_ses-01_acq-SEfmapDWI_dir-PA_epi.nii.gz\n",
    "    │    └── func\n",
    "    │    │    ├── sub-010002_ses-01_task-rest_acq-AP_run-01_bold.json\n",
    "    │    │    └── sub-010002_ses-01_task-rest_acq-AP_run-01_bold.nii.gz\n",
    "    └── ses-02/\n",
    "    ```"
   ]
  },
  {
   "cell_type": "markdown",
   "metadata": {},
   "source": [
    "## Querying a BIDS Dataset\n",
    "\n",
    "[`pybids`](https://bids-standard.github.io/pybids/) is a Python API for querying, summarizing and manipulating the BIDS folder structure. We will make use of `pybids` to query the necessary files.\n",
    "\n",
    "Let's first pull the metadata from its associated JSON file using the `get_metadata()` function for the first run."
   ]
  },
  {
   "cell_type": "code",
   "execution_count": 1,
   "metadata": {
    "scrolled": false
   },
   "outputs": [],
   "source": [
    "import bids\n",
    "from bids.layout import BIDSLayout\n",
    "\n",
    "?BIDSLayout\n",
    "\n",
    "bids.config.set_option('extension_initial_dot', True)\n",
    "\n",
    "layout = BIDSLayout(\"../../../data/ds000221\", validate=False)"
   ]
  },
  {
   "cell_type": "markdown",
   "metadata": {},
   "source": [
    "Now that we have a layout object, we can work with a BIDS dataset! Let's extract the metadata from the dataset."
   ]
  },
  {
   "cell_type": "code",
   "execution_count": 2,
   "metadata": {
    "jupyter": {
     "outputs_hidden": true
    },
    "scrolled": true
   },
   "outputs": [
    {
     "data": {
      "text/plain": [
       "{'EchoTime': 0.08,\n",
       " 'EffectiveEchoSpacing': 0.000390001,\n",
       " 'FlipAngle': 90,\n",
       " 'ImageType': ['ORIGINAL', 'PRIMARY', 'DIFFUSION', 'NON'],\n",
       " 'MagneticFieldStrength': 3,\n",
       " 'Manufacturer': 'Siemens',\n",
       " 'ManufacturersModelName': 'Verio',\n",
       " 'MultibandAccelerationFactor': 2,\n",
       " 'ParallelAcquisitionTechnique': 'GRAPPA',\n",
       " 'ParallelReductionFactorInPlane': 2,\n",
       " 'PartialFourier': '7/8',\n",
       " 'PhaseEncodingDirection': 'j-',\n",
       " 'RepetitionTime': 7,\n",
       " 'TotalReadoutTime': 0.04914}"
      ]
     },
     "execution_count": 2,
     "metadata": {},
     "output_type": "execute_result"
    }
   ],
   "source": [
    "dwi = layout.get(subject='010006', suffix='dwi', extension='nii.gz', return_type='file')[0]\n",
    "layout.get_metadata(dwi)"
   ]
  },
  {
   "cell_type": "markdown",
   "metadata": {},
   "source": [
    "## Diffusion Imaging in Python ([dipy](https://dipy.org))\n",
    "\n",
    "For this lesson, we will use the `Dipy` (Diffusion Imaging in Python) package for processing and analysing diffusion MRI.\n",
    "\n",
    "### Why `dipy`?\n",
    "\n",
    "- Fully free and open source\n",
    "- Implemented in Python. Easy to understand, and easy to use.\n",
    "- Implementations of many state-of-the art algorithms\n",
    "- High performance. Many algorithms implemented in [`cython`](http://cython.org/)"
   ]
  },
  {
   "cell_type": "markdown",
   "metadata": {},
   "source": [
    "### Defining a measurement: `GradientTable`\n",
    "\n",
    "`Dipy` has a built-in function that allows us to read in `bval` and `bvec` files named `read_bvals_bvecs` under the `dipy.io.gradients` module. Let's first grab the path to our gradient directions and amplitude files and load them into memory."
   ]
  },
  {
   "cell_type": "code",
   "execution_count": 3,
   "metadata": {
    "jupyter": {
     "outputs_hidden": true
    }
   },
   "outputs": [],
   "source": [
    "bvec = layout.get_bvec(dwi)\n",
    "bval = layout.get_bval(dwi)"
   ]
  },
  {
   "cell_type": "markdown",
   "metadata": {},
   "source": [
    "Now that we have the necessary diffusion files, let's explore the data!"
   ]
  },
  {
   "cell_type": "code",
   "execution_count": 4,
   "metadata": {},
   "outputs": [
    {
     "data": {
      "text/plain": [
       "(128, 128, 88, 67)"
      ]
     },
     "execution_count": 4,
     "metadata": {},
     "output_type": "execute_result"
    }
   ],
   "source": [
    "import numpy as np\n",
    "import nibabel as nib\n",
    "\n",
    "from mpl_toolkits.mplot3d import Axes3D\n",
    "import matplotlib.pyplot as plt\n",
    "\n",
    "data = nib.load(dwi).get_fdata()\n",
    "data.shape"
   ]
  },
  {
   "cell_type": "markdown",
   "metadata": {},
   "source": [
    "We can see that the data is 4 dimensional. The 4th dimension represents the different diffusion directions we are sensitive to. Next, let's take a look at a slice."
   ]
  },
  {
   "cell_type": "code",
   "execution_count": 5,
   "metadata": {},
   "outputs": [
    {
     "data": {
      "image/png": "[encoded data removed]",
      "text/plain": [
       "<Figure size 432x288 with 3 Axes>"
      ]
     },
     "metadata": {
      "needs_background": "light"
     },
     "output_type": "display_data"
    }
   ],
   "source": [
    "x_slice = data[58, :, :, 0]\n",
    "y_slice = data[:, 58, :, 0]\n",
    "z_slice = data[:, :, 30, 0]\n",
    "\n",
    "slices = [x_slice, y_slice, z_slice]\n",
    "\n",
    "fig, axes = plt.subplots(1, len(slices))\n",
    "for i, slice in enumerate(slices):\n",
    "    axes[i].imshow(slice.T, cmap=\"gray\", origin=\"lower\")"
   ]
  },
  {
   "cell_type": "markdown",
   "metadata": {},
   "source": [
    "We can also see how the diffusion gradients are represented. This is plotted on a sphere, the further away from the center of the sphere, the stronger the diffusion gradient (increased sensitivity to diffusion)."
   ]
  },
  {
   "cell_type": "code",
   "execution_count": 6,
   "metadata": {},
   "outputs": [
    {
     "data": {
      "image/png": "[encoded data removed]",
      "text/plain": [
       "<Figure size 432x288 with 1 Axes>"
      ]
     },
     "metadata": {
      "needs_background": "light"
     },
     "output_type": "display_data"
    }
   ],
   "source": [
    "bvec_txt = np.genfromtxt(bvec)\n",
    "\n",
    "fig = plt.figure()\n",
    "ax = fig.add_subplot(111, projection='3d')\n",
    "ax.scatter(bvec_txt[0], bvec_txt[1], bvec_txt[2])\n",
    "\n",
    "plt.show()"
   ]
  },
  {
   "cell_type": "markdown",
   "metadata": {},
   "source": [
    "The files associated with the diffusion gradients need to converted to a `GradientTable` object to be used with `Dipy`. A `GradientTable` object can be implemented using the `dipy.core.gradients` module. The input to the `GradientTable` should be our the values for our gradient directions and amplitudes we read in."
   ]
  },
  {
   "cell_type": "code",
   "execution_count": 7,
   "metadata": {},
   "outputs": [],
   "source": [
    "from dipy.io.gradients import read_bvals_bvecs\n",
    "from dipy.core.gradients import gradient_table\n",
    "\n",
    "gt_bvals, gt_bvecs = read_bvals_bvecs(bval, bvec)\n",
    "gtab = gradient_table(gt_bvals, gt_bvecs)"
   ]
  },
  {
   "cell_type": "markdown",
   "metadata": {},
   "source": [
    "We will need this gradient table later on to process our data and generate diffusion tensor images (DTI)!\n",
    "\n",
    "There is also a built in function for gradient tables, `b0s_mask` that can be used to separate difussion weighted measurements from non-diffusion weighted measurements (b=0s/mm^2). Try to extract the vector corresponding to diffusion weighted measurements in the following cell!"
   ]
  },
  {
   "cell_type": "code",
   "execution_count": 8,
   "metadata": {},
   "outputs": [
    {
     "data": {
      "text/plain": [
       "array([[-2.51881e-02, -3.72268e-01,  9.27783e-01],\n",
       "       [ 9.91276e-01, -1.05773e-01, -7.86433e-02],\n",
       "       [-1.71007e-01, -5.00324e-01, -8.48783e-01],\n",
       "       [-3.28334e-01, -8.07475e-01,  4.90083e-01],\n",
       "       [ 1.59023e-01, -5.08209e-01, -8.46425e-01],\n",
       "       [ 4.19677e-01, -5.94275e-01,  6.86082e-01],\n",
       "       [-8.76364e-01, -4.64096e-01,  1.28844e-01],\n",
       "       [ 1.47409e-01, -8.01322e-02,  9.85824e-01],\n",
       "       [ 3.50020e-01, -9.29191e-01, -1.18704e-01],\n",
       "       [ 6.70475e-01,  1.96486e-01,  7.15441e-01],\n",
       "       [-6.85569e-01,  2.47048e-01,  6.84808e-01],\n",
       "       [ 3.21619e-01, -8.24329e-01,  4.65879e-01],\n",
       "       [-8.35634e-01, -5.07463e-01, -2.10233e-01],\n",
       "       [ 5.08740e-01, -8.43979e-01,  1.69950e-01],\n",
       "       [-8.03836e-01, -3.83790e-01,  4.54481e-01],\n",
       "       [-6.82578e-02, -7.53445e-01, -6.53959e-01],\n",
       "       [-2.07898e-01, -6.27330e-01,  7.50490e-01],\n",
       "       [ 9.31645e-01, -3.38939e-01,  1.30988e-01],\n",
       "       [-2.04382e-01, -5.95385e-02,  9.77079e-01],\n",
       "       [-3.52674e-01, -9.31125e-01, -9.28787e-02],\n",
       "       [ 5.11906e-01, -7.06485e-02,  8.56132e-01],\n",
       "       [ 4.84626e-01, -7.73448e-01, -4.08554e-01],\n",
       "       [-8.71976e-01, -2.40158e-01, -4.26593e-01],\n",
       "       [-3.53191e-01, -3.41688e-01,  8.70922e-01],\n",
       "       [-6.89136e-01, -5.16115e-01, -5.08642e-01],\n",
       "       [ 7.19336e-01, -5.25068e-01, -4.54817e-01],\n",
       "       [ 1.14176e-01, -6.44483e-01,  7.56046e-01],\n",
       "       [-5.63224e-01, -7.67654e-01, -3.05754e-01],\n",
       "       [-5.31237e-01, -1.29342e-02,  8.47125e-01],\n",
       "       [ 7.99914e-01, -7.30043e-02,  5.95658e-01],\n",
       "       [-1.43792e-01, -9.64620e-01,  2.20979e-01],\n",
       "       [ 9.55196e-01, -5.23107e-02,  2.91314e-01],\n",
       "       [-3.64423e-01,  2.53394e-01,  8.96096e-01],\n",
       "       [ 6.24566e-01, -6.44762e-01,  4.40680e-01],\n",
       "       [-3.91818e-01, -7.09411e-01, -5.85845e-01],\n",
       "       [-5.21993e-01, -5.74810e-01,  6.30172e-01],\n",
       "       [ 6.56573e-01, -7.41002e-01, -1.40812e-01],\n",
       "       [-6.68597e-01, -6.60616e-01,  3.41414e-01],\n",
       "       [ 8.20224e-01, -3.72360e-01,  4.34259e-01],\n",
       "       [-2.05263e-01, -9.02465e-01, -3.78714e-01],\n",
       "       [-6.37020e-01, -2.83529e-01,  7.16810e-01],\n",
       "       [ 1.37944e-01, -9.14231e-01, -3.80990e-01],\n",
       "       [-9.49691e-01, -1.45434e-01,  2.77373e-01],\n",
       "       [-7.31922e-03, -9.95911e-01, -9.00386e-02],\n",
       "       [-8.14263e-01, -4.20783e-02,  5.78969e-01],\n",
       "       [ 1.87418e-01, -9.63210e-01,  1.92618e-01],\n",
       "       [ 3.30434e-01,  1.92714e-01,  9.23945e-01],\n",
       "       [ 8.95093e-01, -2.18266e-01, -3.88805e-01],\n",
       "       [ 3.11358e-01, -3.49170e-01,  8.83819e-01],\n",
       "       [-6.86317e-01, -7.27289e-01, -4.54356e-03],\n",
       "       [ 4.92805e-01, -5.14280e-01, -7.01897e-01],\n",
       "       [-8.03482e-04, -8.56796e-01,  5.15655e-01],\n",
       "       [-4.77664e-01, -4.45734e-01, -7.57072e-01],\n",
       "       [ 7.68954e-01, -6.22151e-01,  1.47095e-01],\n",
       "       [-1.55099e-02,  2.22329e-01,  9.74848e-01],\n",
       "       [-9.74410e-01, -2.11297e-01, -7.66740e-02],\n",
       "       [ 2.56251e-01, -7.33793e-01, -6.29193e-01],\n",
       "       [ 6.24656e-01, -3.42071e-01,  7.01992e-01],\n",
       "       [-4.61411e-01, -8.64670e-01,  1.98612e-01],\n",
       "       [ 8.68547e-01, -4.66754e-01, -1.66634e-01]])"
      ]
     },
     "execution_count": 8,
     "metadata": {},
     "output_type": "execute_result"
    }
   ],
   "source": [
    "gtab.bvecs[~gtab.b0s_mask]"
   ]
  },
  {
   "cell_type": "markdown",
   "metadata": {},
   "source": [
    "It is also important to know where our diffusion weighting free measurements are as we need them for registration in our preprocessing, (our next notebook). The `b0s_mask` shows that this is the first volume of our dataset."
   ]
  },
  {
   "cell_type": "code",
   "execution_count": 9,
   "metadata": {},
   "outputs": [
    {
     "data": {
      "text/plain": [
       "array([ True, False, False, False, False, False, False, False, False,\n",
       "       False, False,  True, False, False, False, False, False, False,\n",
       "       False, False, False, False,  True, False, False, False, False,\n",
       "       False, False, False, False, False, False,  True, False, False,\n",
       "       False, False, False, False, False, False, False, False,  True,\n",
       "       False, False, False, False, False, False, False, False, False,\n",
       "       False,  True, False, False, False, False, False, False, False,\n",
       "       False, False, False,  True])"
      ]
     },
     "execution_count": 9,
     "metadata": {},
     "output_type": "execute_result"
    }
   ],
   "source": [
    "gtab.b0s_mask"
   ]
  },
  {
   "cell_type": "markdown",
   "metadata": {},
   "source": [
    "In the next few notebooks, we will talk more about preprocessing the diffusion weighted images and reconstructing the Tensor model"
   ]
  },
  {
   "cell_type": "markdown",
   "metadata": {},
   "source": [
    "## Exercise 1\n",
    "\n",
    "Get a list of **all** diffusion data in NIfTI file format"
   ]
  },
  {
   "cell_type": "markdown",
   "metadata": {},
   "source": [
    "## Solution"
   ]
  },
  {
   "cell_type": "code",
   "execution_count": 10,
   "metadata": {},
   "outputs": [],
   "source": [
    "dwi_data = layout.get(suffix='dwi', extension='nii.gz', return_type='file')"
   ]
  }
 ],
 "metadata": {
  "kernelspec": {
   "display_name": "Python 3 (ipykernel)",
   "language": "python",
   "name": "python3"
  },
  "language_info": {
   "codemirror_mode": {
    "name": "ipython",
    "version": 3
   },
   "file_extension": ".py",
   "mimetype": "text/x-python",
   "name": "python",
   "nbconvert_exporter": "python",
   "pygments_lexer": "ipython3",
   "version": "3.8.10"
  }
 },
 "nbformat": 4,
 "nbformat_minor": 4
}