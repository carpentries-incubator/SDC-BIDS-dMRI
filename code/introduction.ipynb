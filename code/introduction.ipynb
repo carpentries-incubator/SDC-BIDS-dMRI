{
 "cells": [
  {
   "cell_type": "markdown",
   "metadata": {},
   "source": [
    "# Introduction to Diffusion MRI data\n",
    "\n",
    "_Much of the material in both the current notebook and the upcoming notebooks\n",
    "are adapted from the lessons on [neuroimaging analysis with Python](https://github.com/datacarpentry/python-neuroimaging-lesson)._\n",
    "\n",
    "## Diffusion Weighted Imaging (DWI)\n",
    "\n",
    "Diffusion MRI is a popular technique to study the brain's white matter. To do\n",
    "so, sequences sensitive to random, microscropic motion of water protons are\n",
    "applied. The diffusion within biological structures, such as the brain, are\n",
    "often restricted due to barriers (e.g. cell membranes), resulting in a\n",
    "preferred direction of diffusion (anisotropy). A typical diffusion MRI scan\n",
    "will acquire multiple volumes that are sensitive to a particular diffusion\n",
    "direction and result in diffusion-weighted images (DWI). Diffusion that\n",
    "exhibits directionality in the same direction result in an attenuated signal.\n",
    "With further processing (to be discussed later in the lesson), the acquired\n",
    "images can provide measurements which are related to the microscopic changes\n",
    "and estimate white matter trajectories. Images with no diffusion weighting are\n",
    "also acquired as part of the acquisition protocol.\n",
    "\n",
    "![fiber_configurations](../fig/introduction/DiffusionDirections.png) \\\n",
    "Diffusion along X, Y, and Z directions"
   ]
  },
  {
   "cell_type": "markdown",
   "metadata": {},
   "source": [
    "## b-values & b-vectors\n",
    "\n",
    "In addition to the acquired diffusion images, two files are collected as part\n",
    "of the diffusion dataset. These files correspond to the gradient amplitude\n",
    "(b-values) and directions (b-vectors) of the diffusion measurement and are\n",
    "named with the extensiosn `.bval` and `.bvec` respectively. The b-value is the\n",
    "diffusion-sensitizing factor, and reflects the timing & strength of the\n",
    "gradients used to acquire the diffusion-weighted images. The b-vector\n",
    "corresponds to the direction of the diffusion sensitivity. Together these two\n",
    "files define the diffusion MRI measurement as a set of gradient directions and\n",
    "corresponding amplitudes."
   ]
  },
  {
   "cell_type": "markdown",
   "metadata": {},
   "source": [
    "## Dataset\n",
    "\n",
    "For the rest of this lesson, we will make use of a subset of a publicly\n",
    "available dataset, ds000221, originally hosted at [openneuro.org](https://openneuro.org/datasets/ds000221/versions/1.0.0).\n",
    " The dataset is structured according to the Brain Imaging Data Structure\n",
    " ([BIDS](https://bids-specification.readthedocs.io/en/etable/)). Please check\n",
    " the [the BIDS-dMRI Setup page](https://carpentries-incubator.github.io/SDC-BIDS-dMRI/setup.html)\n",
    " to download the dataset."
   ]
  },
  {
   "cell_type": "markdown",
   "metadata": {},
   "source": [
    "Below is a tree diagram showing the folder structure of a single MR subject and\n",
    "session within ds000221. This was obtained by using the bash command `tree`.\n",
    "\n",
    "`!tree ../data/ds000221`\n",
    "\n",
    "```\n",
    "../data/ds000221\n",
    "├── .bidsignore\n",
    "├── CHANGES\n",
    "├── dataset_description.json\n",
    "├── participants.tsv\n",
    "├── README\n",
    "├── derivatives/\n",
    "├── sub-010001/\n",
    "└── sub-010002/\n",
    "    ├── ses-01/\n",
    "    │    ├── anat\n",
    "    │    │    ├── sub-010002_ses-01_acq-lowres_FLAIR.json\n",
    "    │    │    ├── sub-010002_ses-01_acq-lowres_FLAIR.nii.gz\n",
    "    │    │    ├── sub-010002_ses-01_acq-mp2rage_defacemask.nii.gz\n",
    "    │    │    ├── sub-010002_ses-01_acq-mp2rage_T1map.nii.gz\n",
    "    │    │    ├── sub-010002_ses-01_acq-mp2rage_T1w.nii.gz\n",
    "    │    │    ├── sub-010002_ses-01_inv-1_mp2rage.json\n",
    "    │    │    ├── sub-010002_ses-01_inv-1_mp2rage.nii.gz\n",
    "    │    │    ├── sub-010002_ses-01_inv-2_mp2rage.json\n",
    "    │    │    ├── sub-010002_ses-01_inv-2_mp2rage.nii.gz\n",
    "    │    │    ├── sub-010002_ses-01_T2w.json\n",
    "    │    │    └── sub-010002_ses-01_T2w.nii.gz\n",
    "    │    ├── dwi\n",
    "    │    │    ├── sub-010002_ses-01_dwi.bval\n",
    "    │    │    │── sub-010002_ses-01_dwi.bvec\n",
    "    │    │    │── sub-010002_ses-01_dwi.json\n",
    "    │    │    └── sub-010002_ses-01_dwi.nii.gz\n",
    "    │    ├── fmap\n",
    "    │    │    ├── sub-010002_ses-01_acq-GEfmap_run-01_magnitude1.json\n",
    "    │    │    ├── sub-010002_ses-01_acq-GEfmap_run-01_magnitude1.nii.gz\n",
    "    │    │    ├── sub-010002_ses-01_acq-GEfmap_run-01_magnitude2.json\n",
    "    │    │    ├── sub-010002_ses-01_acq-GEfmap_run-01_magnitude2.nii.gz\n",
    "    │    │    ├── sub-010002_ses-01_acq-GEfmap_run-01_phasediff.json\n",
    "    │    │    ├── sub-010002_ses-01_acq-GEfmap_run-01_phasediff.nii.gz\n",
    "    │    │    ├── sub-010002_ses-01_acq-SEfmapBOLDpost_dir-AP_epi.json\n",
    "    │    │    ├── sub-010002_ses-01_acq-SEfmapBOLDpost_dir-AP_epi.nii.gz\n",
    "    │    │    ├── sub-010002_ses-01_acq-SEfmapBOLDpost_dir-PA_epi.json\n",
    "    │    │    ├── sub-010002_ses-01_acq-SEfmapBOLDpost_dir-PA_epi.nii.gz\n",
    "    │    │    ├── sub-010002_ses-01_acq-sefmapBOLDpre_dir-AP_epi.json\n",
    "    │    │    ├── sub-010002_ses-01_acq-sefmapBOLDpre_dir-AP_epi.nii.gz\n",
    "    │    │    ├── sub-010002_ses-01_acq-sefmapBOLDpre_dir-PA_epi.json\n",
    "    │    │    ├── sub-010002_ses-01_acq-sefmapBOLDpre_dir-PA_epi.nii.gz\n",
    "    │    │    ├── sub-010002_ses-01_acq-SEfmapBOLDpost_dir-AP_epi.json\n",
    "    │    │    ├── sub-010002_ses-01_acq-SEfmapBOLDpost_dir-AP_epi.nii.gz\n",
    "    │    │    ├── sub-010002_ses-01_acq-SEfmapBOLDpost_dir-PA_epi.json\n",
    "    │    │    ├── sub-010002_ses-01_acq-SEfmapBOLDpost_dir-PA_epi.nii.gz\n",
    "    │    │    ├── sub-010002_ses-01_acq-SEfmapDWI_dir-AP_epi.json\n",
    "    │    │    ├── sub-010002_ses-01_acq-SEfmapDWI_dir-AP_epi.nii.gz\n",
    "    │    │    ├── sub-010002_ses-01_acq-SEfmapDWI_dir-PA_epi.json\n",
    "    │    │    └── sub-010002_ses-01_acq-SEfmapDWI_dir-PA_epi.nii.gz\n",
    "    │    └── func\n",
    "    │    │    ├── sub-010002_ses-01_task-rest_acq-AP_run-01_bold.json\n",
    "    │    │    └── sub-010002_ses-01_task-rest_acq-AP_run-01_bold.nii.gz\n",
    "    └── ses-02/\n",
    "    ```"
   ]
  },
  {
   "cell_type": "markdown",
   "metadata": {},
   "source": [
    "## Querying a BIDS Dataset\n",
    "\n",
    "[`PyBIDS`](https://bids-standard.github.io/pybids/) is a Python package for\n",
    "querying, summarizing and manipulating the BIDS folder structure. We will make\n",
    "use of `pybids` to query the necessary files.\n",
    "\n",
    "Let's first pull the metadata from its associated JSON file using the\n",
    "`get_metadata()` function for the first run."
   ]
  },
  {
   "cell_type": "code",
   "execution_count": null,
   "metadata": {
    "scrolled": false
   },
   "outputs": [],
   "source": [
    "from bids.layout import BIDSLayout\n",
    "\n",
    "?BIDSLayout\n",
    "\n",
    "layout = BIDSLayout(\"../data/ds000221\", validate=False)"
   ]
  },
  {
   "cell_type": "markdown",
   "metadata": {},
   "source": [
    "Now that we have a layout object, we can work with a BIDS dataset! Let's\n",
    "extract the metadata from the dataset."
   ]
  },
  {
   "cell_type": "code",
   "execution_count": null,
   "metadata": {
    "jupyter": {
     "outputs_hidden": true
    },
    "scrolled": true
   },
   "outputs": [],
   "source": [
    "dwi = layout.get(subject='010006', suffix='dwi', extension='.nii.gz', return_type='file')[0]\n",
    "layout.get_metadata(dwi)"
   ]
  },
  {
   "cell_type": "markdown",
   "metadata": {},
   "source": [
    "## Diffusion Imaging in Python ([DIPY](https://dipy.org))\n",
    "\n",
    "For this lesson, we will use the `DIPY` (Diffusion Imaging in Python) package\n",
    "for processing and analysing diffusion MRI.\n",
    "\n",
    "### Why `DIPY`?\n",
    "\n",
    "- Fully free and open source.\n",
    "- Implemented in Python. Easy to understand, and easy to use.\n",
    "- Implementations of many state-of-the art algorithms.\n",
    "- High performance. Many algorithms implemented in [Cython](http://cython.org/)."
   ]
  },
  {
   "cell_type": "markdown",
   "metadata": {},
   "source": [
    "### Defining a measurement: `GradientTable`\n",
    "\n",
    "`DIPY` has a built-in function that allows us to read in `bval` and `bvec`\n",
    "files named `read_bvals_bvecs` under the `dipy.io.gradients` module. Let's\n",
    "first grab the path to our gradient directions and amplitude files and load\n",
    "them into memory."
   ]
  },
  {
   "cell_type": "code",
   "execution_count": null,
   "metadata": {
    "jupyter": {
     "outputs_hidden": true
    }
   },
   "outputs": [],
   "source": [
    "bvec = layout.get_bvec(dwi)\n",
    "bval = layout.get_bval(dwi)"
   ]
  },
  {
   "cell_type": "markdown",
   "metadata": {},
   "source": [
    "Now that we have the necessary diffusion files, let's explore the data!"
   ]
  },
  {
   "cell_type": "code",
   "execution_count": null,
   "metadata": {},
   "outputs": [],
   "source": [
    "import numpy as np\n",
    "import nibabel as nib\n",
    "\n",
    "from mpl_toolkits.mplot3d import Axes3D\n",
    "import matplotlib.pyplot as plt\n",
    "\n",
    "data = nib.load(dwi).get_fdata()\n",
    "data.shape"
   ]
  },
  {
   "cell_type": "markdown",
   "metadata": {},
   "source": [
    "We can see that the data is 4 dimensional. The 4th dimension represents the\n",
    "different diffusion directions we are sensitive to. Next, let's take a look at\n",
    "a slice."
   ]
  },
  {
   "cell_type": "code",
   "execution_count": null,
   "metadata": {},
   "outputs": [],
   "source": [
    "x_slice = data[58, :, :, 0]\n",
    "y_slice = data[:, 58, :, 0]\n",
    "z_slice = data[:, :, 30, 0]\n",
    "\n",
    "slices = [x_slice, y_slice, z_slice]\n",
    "\n",
    "fig, axes = plt.subplots(1, len(slices))\n",
    "for i, _slice in enumerate(slices):\n",
    "    axes[i].imshow(_slice.T, cmap=\"gray\", origin=\"lower\")"
   ]
  },
  {
   "cell_type": "markdown",
   "metadata": {},
   "source": [
    "We can also see how the diffusion gradients are represented. This is plotted on\n",
    "a sphere, the further away from the center of the sphere, the stronger the\n",
    "diffusion gradient (increased sensitivity to diffusion)."
   ]
  },
  {
   "cell_type": "code",
   "execution_count": null,
   "metadata": {},
   "outputs": [],
   "source": [
    "bvec_txt = np.genfromtxt(bvec)\n",
    "\n",
    "fig = plt.figure()\n",
    "ax = fig.add_subplot(111, projection='3d')\n",
    "ax.scatter(bvec_txt[0], bvec_txt[1], bvec_txt[2])\n",
    "\n",
    "plt.show()"
   ]
  },
  {
   "cell_type": "markdown",
   "metadata": {},
   "source": [
    "The files associated with the diffusion gradients need to converted to a\n",
    "`GradientTable` object to be used with `DIPY`. A `GradientTable` object can be\n",
    "implemented using the `dipy.core.gradients` module. The input to the\n",
    "`GradientTable` should be our the values for our gradient directions and\n",
    "amplitudes we read in."
   ]
  },
  {
   "cell_type": "code",
   "execution_count": null,
   "metadata": {},
   "outputs": [],
   "source": [
    "from dipy.io.gradients import read_bvals_bvecs\n",
    "from dipy.core.gradients import gradient_table\n",
    "\n",
    "gt_bvals, gt_bvecs = read_bvals_bvecs(bval, bvec)\n",
    "gtab = gradient_table(gt_bvals, gt_bvecs)"
   ]
  },
  {
   "cell_type": "markdown",
   "metadata": {},
   "source": [
    "We will need this gradient table later on to process our data and generate\n",
    "diffusion tensor images (DTI)!\n",
    "\n",
    "There is also a built-in function for gradient tables, `b0s_mask` that can be\n",
    "used to separate difussion weighted measurements from non-diffusion weighted\n",
    "measurements ($b = 0 s/mm^2$, commonly referred to as the B0 volume or image).\n",
    "Try to extract the vector corresponding to diffusion weighted measurements in\n",
    "the following cell!"
   ]
  },
  {
   "cell_type": "code",
   "execution_count": null,
   "metadata": {},
   "outputs": [],
   "source": [
    "gtab.bvecs[~gtab.b0s_mask]"
   ]
  },
  {
   "cell_type": "markdown",
   "metadata": {},
   "source": [
    "It is also important to know where our diffusion weighting free measurements\n",
    "are as we need them for registration in our preprocessing, (our next notebook).\n",
    "`gtab.b0s_mask` shows that this is the first volume of our dataset."
   ]
  },
  {
   "cell_type": "code",
   "execution_count": null,
   "metadata": {},
   "outputs": [],
   "source": [
    "gtab.b0s_mask"
   ]
  },
  {
   "cell_type": "markdown",
   "metadata": {},
   "source": [
    "In the next few notebooks, we will talk more about preprocessing the diffusion\n",
    "weighted images and reconstructing the Tensor model"
   ]
  },
  {
   "cell_type": "markdown",
   "metadata": {
    "solution2": "hidden",
    "solution2_first": true
   },
   "source": [
    "## Exercise 1\n",
    "\n",
    "Get a list of **all** diffusion data in NIfTI file format"
   ]
  },
  {
   "cell_type": "code",
   "execution_count": null,
   "source": [
    "dwi_data = layout.get(suffix='dwi', extension='.nii.gz', return_type='file')"
   ],
   "outputs": [],
   "metadata": {
    "solution2": "hidden"
   }
  },
  {
   "cell_type": "code",
   "execution_count": null,
   "metadata": {},
   "outputs": [],
   "source": [
    "# –––––––––––––--––– #\n",
    "# –––– Solution –––– #\n",
    "# ––––––––––––––--–– #\n"
   ]
  }
 ],
 "metadata": {
  "celltoolbar": "Tags",
  "kernelspec": {
   "display_name": "Python 3",
   "language": "python",
   "name": "python3"
  },
  "language_info": {
   "codemirror_mode": {
    "name": "ipython",
    "version": 3
   },
   "file_extension": ".py",
   "mimetype": "text/x-python",
   "name": "python",
   "nbconvert_exporter": "python",
   "pygments_lexer": "ipython3",
   "version": "3.7.4"
  }
 },
 "nbformat": 4,
 "nbformat_minor": 4
}